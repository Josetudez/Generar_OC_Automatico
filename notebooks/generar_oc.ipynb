{
 "cells": [
  {
   "cell_type": "code",
   "execution_count": 1,
   "metadata": {},
   "outputs": [],
   "source": [
    "import sys\n",
    "import os\n",
    "\n",
    "root_dir = os.chdir(os.path.abspath(os.path.join(os.getcwd(),'..')))\n",
    "if root_dir not in sys.path:\n",
    "    sys.path.append(root_dir)"
   ]
  },
  {
   "cell_type": "code",
   "execution_count": 2,
   "metadata": {},
   "outputs": [],
   "source": [
    "from db.conexion_db import crear_conexion, cerrar_conexion\n",
    "from db.querys_db import insert_data, consult_data, procedure_data, update_data\n",
    "from conexion_sap import connect_to_sap\n",
    "import datetime\n",
    "import pandas as pd\n",
    "import numpy as np\n",
    "import json"
   ]
  },
  {
   "cell_type": "code",
   "execution_count": 3,
   "metadata": {},
   "outputs": [],
   "source": [
    "from google.oauth2.credentials import Credentials\n",
    "from googleapiclient.discovery import build\n",
    "from google.oauth2 import service_account"
   ]
  },
  {
   "cell_type": "code",
   "execution_count": 4,
   "metadata": {},
   "outputs": [],
   "source": [
    "SCOPES = ['https://www.googleapis.com/auth/spreadsheets']\n",
    "KEY = r'C:\\Users\\CGM\\Projects\\Actualizar_OC\\config\\key_cloud.json'\n",
    "# Escribe aquí el ID de tu documento:\n",
    "SPREADSHEET_ID = '1McMSLQAGpRq12vME_3CBuyKny64B31-0IeJuy6Jm_fQ'\n",
    "\n",
    "creds = None\n",
    "creds = service_account.Credentials.from_service_account_file(KEY, scopes=SCOPES)\n",
    "\n",
    "service = build('sheets', 'v4', credentials=creds)\n",
    "sheet = service.spreadsheets()\n",
    "\n",
    "# Llamada a la api\n",
    "result = sheet.values().get(spreadsheetId=SPREADSHEET_ID, range='Precios!A:H').execute()\n",
    "# Extraemos values del resultado\n",
    "values = result.get('values',[])"
   ]
  },
  {
   "cell_type": "code",
   "execution_count": 5,
   "metadata": {},
   "outputs": [],
   "source": [
    "cotizador_ipesa = pd.DataFrame(values)  "
   ]
  },
  {
   "cell_type": "code",
   "execution_count": 6,
   "metadata": {},
   "outputs": [],
   "source": [
    "cotizador_ipesa.columns = cotizador_ipesa.iloc[1]\n",
    "cotizador_ipesa = cotizador_ipesa[2:].reset_index(drop=True)"
   ]
  },
  {
   "cell_type": "code",
   "execution_count": 33,
   "metadata": {},
   "outputs": [],
   "source": [
    "consulta = 'select identificador,material,reserva_centro,orden,ctd_dif from tbl_abastecimiento where estado_compra = \"Por_pedir\" and ate_accion=\"MERCADERIA\" and ctd_dif > 0'"
   ]
  },
  {
   "cell_type": "code",
   "execution_count": null,
   "metadata": {},
   "outputs": [
    {
     "name": "stdout",
     "output_type": "stream",
     "text": [
      "Conexion Exitosa\n"
     ]
    }
   ],
   "source": [
    "con = crear_conexion()\n",
    "materialesxcomprar = consult_data(con, consulta)\n",
    "cerrar_conexion(con)"
   ]
  },
  {
   "cell_type": "code",
   "execution_count": 36,
   "metadata": {},
   "outputs": [],
   "source": [
    "df_materialesxcomprar = pd.DataFrame(materialesxcomprar)"
   ]
  },
  {
   "cell_type": "code",
   "execution_count": 39,
   "metadata": {},
   "outputs": [],
   "source": [
    "consulta_hist = 'select * from tbl_comprasR3S4_hist where version_sap=\"S4\" '"
   ]
  },
  {
   "cell_type": "code",
   "execution_count": 40,
   "metadata": {},
   "outputs": [
    {
     "name": "stdout",
     "output_type": "stream",
     "text": [
      "Conexion Exitosa\n",
      "conexion cerrada\n"
     ]
    }
   ],
   "source": [
    "con = crear_conexion()\n",
    "historico_materiales = consult_data(con, consulta_hist)\n",
    "cerrar_conexion(con)"
   ]
  },
  {
   "cell_type": "code",
   "execution_count": 42,
   "metadata": {},
   "outputs": [],
   "source": [
    "df_historico_materiales = pd.DataFrame(historico_materiales)"
   ]
  },
  {
   "cell_type": "code",
   "execution_count": 20,
   "metadata": {},
   "outputs": [],
   "source": [
    "data_prueba = pd.read_excel('data_prueba.xlsx')"
   ]
  },
  {
   "cell_type": "code",
   "execution_count": 21,
   "metadata": {},
   "outputs": [
    {
     "name": "stdout",
     "output_type": "stream",
     "text": [
      "C154 1200000011\n"
     ]
    },
    {
     "data": {
      "text/html": [
       "<div>\n",
       "<style scoped>\n",
       "    .dataframe tbody tr th:only-of-type {\n",
       "        vertical-align: middle;\n",
       "    }\n",
       "\n",
       "    .dataframe tbody tr th {\n",
       "        vertical-align: top;\n",
       "    }\n",
       "\n",
       "    .dataframe thead th {\n",
       "        text-align: right;\n",
       "    }\n",
       "</style>\n",
       "<table border=\"1\" class=\"dataframe\">\n",
       "  <thead>\n",
       "    <tr style=\"text-align: right;\">\n",
       "      <th></th>\n",
       "      <th>material</th>\n",
       "      <th>precio</th>\n",
       "      <th>cantidad</th>\n",
       "      <th>UND</th>\n",
       "      <th>cod_proveedor</th>\n",
       "      <th>Proveedor</th>\n",
       "      <th>Comprador</th>\n",
       "      <th>centro</th>\n",
       "    </tr>\n",
       "  </thead>\n",
       "  <tbody>\n",
       "    <tr>\n",
       "      <th>81</th>\n",
       "      <td>JDRE61631</td>\n",
       "      <td>92.93</td>\n",
       "      <td>1</td>\n",
       "      <td>UN</td>\n",
       "      <td>1200000011</td>\n",
       "      <td>IPESA</td>\n",
       "      <td>Cesar Toro</td>\n",
       "      <td>C154</td>\n",
       "    </tr>\n",
       "    <tr>\n",
       "      <th>82</th>\n",
       "      <td>JDRE61645</td>\n",
       "      <td>66.05</td>\n",
       "      <td>1</td>\n",
       "      <td>UN</td>\n",
       "      <td>1200000011</td>\n",
       "      <td>IPESA</td>\n",
       "      <td>Cesar Toro</td>\n",
       "      <td>C154</td>\n",
       "    </tr>\n",
       "    <tr>\n",
       "      <th>83</th>\n",
       "      <td>JDRE54847</td>\n",
       "      <td>95.93</td>\n",
       "      <td>1</td>\n",
       "      <td>UN</td>\n",
       "      <td>1200000011</td>\n",
       "      <td>IPESA</td>\n",
       "      <td>Cesar Toro</td>\n",
       "      <td>C154</td>\n",
       "    </tr>\n",
       "    <tr>\n",
       "      <th>84</th>\n",
       "      <td>JDER372511</td>\n",
       "      <td>591.46</td>\n",
       "      <td>1</td>\n",
       "      <td>UN</td>\n",
       "      <td>1200000011</td>\n",
       "      <td>IPESA</td>\n",
       "      <td>Cesar Toro</td>\n",
       "      <td>C154</td>\n",
       "    </tr>\n",
       "    <tr>\n",
       "      <th>85</th>\n",
       "      <td>JDSJ290320</td>\n",
       "      <td>1657.37</td>\n",
       "      <td>1</td>\n",
       "      <td>UN</td>\n",
       "      <td>1200000011</td>\n",
       "      <td>IPESA</td>\n",
       "      <td>Cesar Toro</td>\n",
       "      <td>C154</td>\n",
       "    </tr>\n",
       "  </tbody>\n",
       "</table>\n",
       "</div>"
      ],
      "text/plain": [
       "      material   precio  cantidad UND  cod_proveedor Proveedor   Comprador  \\\n",
       "81   JDRE61631    92.93         1  UN     1200000011     IPESA  Cesar Toro   \n",
       "82   JDRE61645    66.05         1  UN     1200000011     IPESA  Cesar Toro   \n",
       "83   JDRE54847    95.93         1  UN     1200000011     IPESA  Cesar Toro   \n",
       "84  JDER372511   591.46         1  UN     1200000011     IPESA  Cesar Toro   \n",
       "85  JDSJ290320  1657.37         1  UN     1200000011     IPESA  Cesar Toro   \n",
       "\n",
       "   centro  \n",
       "81   C154  \n",
       "82   C154  \n",
       "83   C154  \n",
       "84   C154  \n",
       "85   C154  "
      ]
     },
     "metadata": {},
     "output_type": "display_data"
    },
    {
     "name": "stdout",
     "output_type": "stream",
     "text": [
      "-------------------\n",
      "C200 1200000011\n"
     ]
    },
    {
     "data": {
      "text/html": [
       "<div>\n",
       "<style scoped>\n",
       "    .dataframe tbody tr th:only-of-type {\n",
       "        vertical-align: middle;\n",
       "    }\n",
       "\n",
       "    .dataframe tbody tr th {\n",
       "        vertical-align: top;\n",
       "    }\n",
       "\n",
       "    .dataframe thead th {\n",
       "        text-align: right;\n",
       "    }\n",
       "</style>\n",
       "<table border=\"1\" class=\"dataframe\">\n",
       "  <thead>\n",
       "    <tr style=\"text-align: right;\">\n",
       "      <th></th>\n",
       "      <th>material</th>\n",
       "      <th>precio</th>\n",
       "      <th>cantidad</th>\n",
       "      <th>UND</th>\n",
       "      <th>cod_proveedor</th>\n",
       "      <th>Proveedor</th>\n",
       "      <th>Comprador</th>\n",
       "      <th>centro</th>\n",
       "    </tr>\n",
       "  </thead>\n",
       "  <tbody>\n",
       "    <tr>\n",
       "      <th>0</th>\n",
       "      <td>JDTY26813_</td>\n",
       "      <td>139.05</td>\n",
       "      <td>20</td>\n",
       "      <td>GLN</td>\n",
       "      <td>1200000011</td>\n",
       "      <td>IPESA</td>\n",
       "      <td>Cesar Toro</td>\n",
       "      <td>C200</td>\n",
       "    </tr>\n",
       "    <tr>\n",
       "      <th>1</th>\n",
       "      <td>JDER263096</td>\n",
       "      <td>78.03</td>\n",
       "      <td>4</td>\n",
       "      <td>UN</td>\n",
       "      <td>1200000011</td>\n",
       "      <td>IPESA</td>\n",
       "      <td>Cesar Toro</td>\n",
       "      <td>C200</td>\n",
       "    </tr>\n",
       "    <tr>\n",
       "      <th>2</th>\n",
       "      <td>JDER263097</td>\n",
       "      <td>55.39</td>\n",
       "      <td>4</td>\n",
       "      <td>UN</td>\n",
       "      <td>1200000011</td>\n",
       "      <td>IPESA</td>\n",
       "      <td>Cesar Toro</td>\n",
       "      <td>C200</td>\n",
       "    </tr>\n",
       "    <tr>\n",
       "      <th>3</th>\n",
       "      <td>JD45M7063</td>\n",
       "      <td>11.55</td>\n",
       "      <td>4</td>\n",
       "      <td>UN</td>\n",
       "      <td>1200000011</td>\n",
       "      <td>IPESA</td>\n",
       "      <td>Cesar Toro</td>\n",
       "      <td>C200</td>\n",
       "    </tr>\n",
       "    <tr>\n",
       "      <th>4</th>\n",
       "      <td>JDAL205022</td>\n",
       "      <td>40.61</td>\n",
       "      <td>4</td>\n",
       "      <td>UN</td>\n",
       "      <td>1200000011</td>\n",
       "      <td>IPESA</td>\n",
       "      <td>Cesar Toro</td>\n",
       "      <td>C200</td>\n",
       "    </tr>\n",
       "    <tr>\n",
       "      <th>...</th>\n",
       "      <td>...</td>\n",
       "      <td>...</td>\n",
       "      <td>...</td>\n",
       "      <td>...</td>\n",
       "      <td>...</td>\n",
       "      <td>...</td>\n",
       "      <td>...</td>\n",
       "      <td>...</td>\n",
       "    </tr>\n",
       "    <tr>\n",
       "      <th>76</th>\n",
       "      <td>JDR113910</td>\n",
       "      <td>18.13</td>\n",
       "      <td>1</td>\n",
       "      <td>UN</td>\n",
       "      <td>1200000011</td>\n",
       "      <td>IPESA</td>\n",
       "      <td>Cesar Toro</td>\n",
       "      <td>C200</td>\n",
       "    </tr>\n",
       "    <tr>\n",
       "      <th>77</th>\n",
       "      <td>JDRE61719</td>\n",
       "      <td>27.20</td>\n",
       "      <td>1</td>\n",
       "      <td>UN</td>\n",
       "      <td>1200000011</td>\n",
       "      <td>IPESA</td>\n",
       "      <td>Cesar Toro</td>\n",
       "      <td>C200</td>\n",
       "    </tr>\n",
       "    <tr>\n",
       "      <th>78</th>\n",
       "      <td>JDSJ38860</td>\n",
       "      <td>9.53</td>\n",
       "      <td>1</td>\n",
       "      <td>UN</td>\n",
       "      <td>1200000011</td>\n",
       "      <td>IPESA</td>\n",
       "      <td>Cesar Toro</td>\n",
       "      <td>C200</td>\n",
       "    </tr>\n",
       "    <tr>\n",
       "      <th>79</th>\n",
       "      <td>JDJD9258</td>\n",
       "      <td>92.22</td>\n",
       "      <td>1</td>\n",
       "      <td>UN</td>\n",
       "      <td>1200000011</td>\n",
       "      <td>IPESA</td>\n",
       "      <td>Cesar Toro</td>\n",
       "      <td>C200</td>\n",
       "    </tr>\n",
       "    <tr>\n",
       "      <th>80</th>\n",
       "      <td>JDJD9344</td>\n",
       "      <td>24.18</td>\n",
       "      <td>1</td>\n",
       "      <td>UN</td>\n",
       "      <td>1200000011</td>\n",
       "      <td>IPESA</td>\n",
       "      <td>Cesar Toro</td>\n",
       "      <td>C200</td>\n",
       "    </tr>\n",
       "  </tbody>\n",
       "</table>\n",
       "<p>81 rows × 8 columns</p>\n",
       "</div>"
      ],
      "text/plain": [
       "      material  precio  cantidad  UND  cod_proveedor Proveedor   Comprador  \\\n",
       "0   JDTY26813_  139.05        20  GLN     1200000011     IPESA  Cesar Toro   \n",
       "1   JDER263096   78.03         4   UN     1200000011     IPESA  Cesar Toro   \n",
       "2   JDER263097   55.39         4   UN     1200000011     IPESA  Cesar Toro   \n",
       "3    JD45M7063   11.55         4   UN     1200000011     IPESA  Cesar Toro   \n",
       "4   JDAL205022   40.61         4   UN     1200000011     IPESA  Cesar Toro   \n",
       "..         ...     ...       ...  ...            ...       ...         ...   \n",
       "76   JDR113910   18.13         1   UN     1200000011     IPESA  Cesar Toro   \n",
       "77   JDRE61719   27.20         1   UN     1200000011     IPESA  Cesar Toro   \n",
       "78   JDSJ38860    9.53         1   UN     1200000011     IPESA  Cesar Toro   \n",
       "79    JDJD9258   92.22         1   UN     1200000011     IPESA  Cesar Toro   \n",
       "80    JDJD9344   24.18         1   UN     1200000011     IPESA  Cesar Toro   \n",
       "\n",
       "   centro  \n",
       "0    C200  \n",
       "1    C200  \n",
       "2    C200  \n",
       "3    C200  \n",
       "4    C200  \n",
       "..    ...  \n",
       "76   C200  \n",
       "77   C200  \n",
       "78   C200  \n",
       "79   C200  \n",
       "80   C200  \n",
       "\n",
       "[81 rows x 8 columns]"
      ]
     },
     "metadata": {},
     "output_type": "display_data"
    },
    {
     "name": "stdout",
     "output_type": "stream",
     "text": [
      "-------------------\n"
     ]
    }
   ],
   "source": [
    "grupos = data_prueba.groupby(['centro','cod_proveedor'])\n",
    "for (centro,proveedor), pedidos_grupo in grupos:\n",
    "    print(centro,proveedor)\n",
    "    display(pedidos_grupo)\n",
    "    print('-------------------')"
   ]
  },
  {
   "cell_type": "code",
   "execution_count": null,
   "metadata": {},
   "outputs": [],
   "source": [
    "def get_db_config(path=\"config/credenciales_sap.json\"):\n",
    "    \"\"\"Carga la configuración de la base de datos desde un archivo JSON.\"\"\"\n",
    "    with open(path, \"r\") as config_file:\n",
    "        return json.load(config_file)\n",
    "        \n",
    "config = get_db_config()    \n",
    "connection_name = config[\"sap_connection_name\"]\n",
    "user_sap = config[\"sap_user\"]\n",
    "pwa_sap = config[\"sap_password\"]\n",
    "\n",
    "session = connect_to_sap(connection_name=connection_name,user_sap=user_sap,pwa_sap=pwa_sap)\n",
    "if session:\n",
    "    grupos = data_prueba.groupby(['centro','cod_proveedor'])\n",
    "    for (centro,proveedor), pedidos_grupo in grupos:\n",
    "        session.findById(\"wnd[0]\").maximize()\n",
    "        session.findById(\"wnd[0]/tbar[0]/okcd\").text = \"ME21N\"\n",
    "        session.findById(\"wnd[0]\").sendVKey(0)\n",
    "        session.findById(\"wnd[0]/usr/subSUB0:SAPLMEGUI:0013/subSUB0:SAPLMEGUI:0030/subSUB1:SAPLMEGUI:1105/cmbMEPO_TOPLINE-BSART\").key = \"ZNAC\"\n",
    "        session.findById(\"wnd[0]/usr/subSUB0:SAPLMEGUI:0013/subSUB0:SAPLMEGUI:0030/subSUB1:SAPLMEGUI:1105/ctxtMEPO_TOPLINE-SUPERFIELD\").text = proveedor\n"
   ]
  }
 ],
 "metadata": {
  "kernelspec": {
   "display_name": "venv",
   "language": "python",
   "name": "python3"
  },
  "language_info": {
   "codemirror_mode": {
    "name": "ipython",
    "version": 3
   },
   "file_extension": ".py",
   "mimetype": "text/x-python",
   "name": "python",
   "nbconvert_exporter": "python",
   "pygments_lexer": "ipython3",
   "version": "3.12.5"
  }
 },
 "nbformat": 4,
 "nbformat_minor": 2
}
